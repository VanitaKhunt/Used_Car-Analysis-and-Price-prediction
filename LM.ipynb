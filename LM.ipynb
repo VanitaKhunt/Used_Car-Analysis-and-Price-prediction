{
 "cells": [
  {
   "cell_type": "code",
   "execution_count": 1,
   "id": "3156a7df",
   "metadata": {},
   "outputs": [],
   "source": [
    "from pyspark.sql import SparkSession\n",
    "from pyspark.conf import SparkConf"
   ]
  },
  {
   "cell_type": "code",
   "execution_count": 2,
   "id": "3ebda465",
   "metadata": {},
   "outputs": [],
   "source": [
    "import os\n",
    "import pandas as pd\n",
    "import numpy as np\n",
    "from pyspark import SparkConf, SparkContext\n",
    "from pyspark.sql import SparkSession, SQLContext\n",
    "from pyspark.sql.types import *\n",
    "import pyspark.sql.functions as F\n",
    "from pyspark.sql.functions import udf, col"
   ]
  },
  {
   "cell_type": "code",
   "execution_count": 3,
   "id": "77fca5f8",
   "metadata": {},
   "outputs": [],
   "source": [
    "spark=SparkSession.builder\\\n",
    " .master(\"local[*]\")\\\n",
    " .appName(\"Linear_Regression\")\\\n",
    " .getOrCreate()\n",
    "sc=spark.sparkContext"
   ]
  },
  {
   "cell_type": "code",
   "execution_count": 4,
   "id": "c6db141a",
   "metadata": {},
   "outputs": [
    {
     "name": "stderr",
     "output_type": "stream",
     "text": [
      "                                                                                \r"
     ]
    },
    {
     "name": "stdout",
     "output_type": "stream",
     "text": [
      "root\n",
      " |-- Sr: integer (nullable = true)\n",
      " |-- Price: integer (nullable = true)\n",
      " |-- Year: integer (nullable = true)\n",
      " |-- Mileage: integer (nullable = true)\n",
      " |-- NewCity: string (nullable = true)\n",
      " |-- NewState: string (nullable = true)\n",
      " |-- NewMake: string (nullable = true)\n",
      " |-- NewModel: string (nullable = true)\n",
      "\n"
     ]
    }
   ],
   "source": [
    "used_car = spark.read.csv(path='/home/hadoop/Downloads/used_car_new.csv', header = True, inferSchema=True)\n",
    "used_car.printSchema()"
   ]
  },
  {
   "cell_type": "code",
   "execution_count": 5,
   "id": "9cc239e4",
   "metadata": {},
   "outputs": [],
   "source": [
    "used_car = used_car.drop(\"Sr\")"
   ]
  },
  {
   "cell_type": "code",
   "execution_count": 6,
   "id": "58757249",
   "metadata": {},
   "outputs": [],
   "source": [
    "# import the required functions\n",
    "from pyspark.ml.feature import OneHotEncoder, StringIndexer, VectorAssembler\n",
    "from pyspark.sql.functions import col\n",
    "from pyspark.ml.feature import OneHotEncoder, StringIndexer, VectorAssembler\n",
    "from pyspark.ml.evaluation import RegressionEvaluator\n",
    "from pyspark.ml.regression import LinearRegression\n",
    "from pyspark.ml import Pipeline\n",
    "from pyspark.ml.evaluation import RegressionEvaluator"
   ]
  },
  {
   "cell_type": "code",
   "execution_count": 7,
   "id": "b1a97bc2",
   "metadata": {},
   "outputs": [
    {
     "name": "stderr",
     "output_type": "stream",
     "text": [
      "                                                                                \r"
     ]
    },
    {
     "name": "stdout",
     "output_type": "stream",
     "text": [
      "+-----+----+-------+----------+----------+-----------+-----------+---------+----------+---------+----------+\n",
      "|Price|Year|Mileage|   NewCity|  NewState|    NewMake|   NewModel|CityIndex|StateIndex|MakeIndex|ModelIndex|\n",
      "+-----+----+-------+----------+----------+-----------+-----------+---------+----------+---------+----------+\n",
      "|22900|2017|   5363|  CLimited|SPlentiful|MAPlentiful| MOIsolated|      1.0|       0.0|      0.0|       1.0|\n",
      "|14000|2011| 107273|CPlentiful|SPlentiful|MAPlentiful| MOIsolated|      3.0|       0.0|      0.0|       1.0|\n",
      "|16795|2014|  31905| CIsolated|SPlentiful|MAPlentiful|MOPlentiful|      0.0|       0.0|      0.0|       0.0|\n",
      "|11975|2010|  89254| CModerate|SPlentiful|MAPlentiful|MOPlentiful|      2.0|       0.0|      0.0|       0.0|\n",
      "|12500|2009|  49160| CIsolated|SPlentiful|MAPlentiful| MOModerate|      0.0|       0.0|      0.0|       2.0|\n",
      "|13712|2015|  51619| CIsolated|SPlentiful|MAPlentiful| MOIsolated|      0.0|       0.0|      0.0|       1.0|\n",
      "|14995|2014|  81080| CModerate|SPlentiful|MAPlentiful|MOPlentiful|      2.0|       0.0|      0.0|       0.0|\n",
      "|17970|2013|  50533| CIsolated|SPlentiful|MAPlentiful|MOPlentiful|      0.0|       0.0|      0.0|       0.0|\n",
      "|27288|2015|  22873| CIsolated|SPlentiful|MAPlentiful|MOPlentiful|      0.0|       0.0|      0.0|       0.0|\n",
      "|10030|2014|  51338|CPlentiful|SPlentiful|MAPlentiful| MOModerate|      3.0|       0.0|      0.0|       2.0|\n",
      "+-----+----+-------+----------+----------+-----------+-----------+---------+----------+---------+----------+\n",
      "only showing top 10 rows\n",
      "\n"
     ]
    }
   ],
   "source": [
    "# Create StringIndexer objects to convert categorical columns to numerical indices\n",
    "city_indexer = StringIndexer(inputCol=\"NewCity\", outputCol=\"CityIndex\")\n",
    "state_indexer = StringIndexer(inputCol=\"NewState\", outputCol=\"StateIndex\")\n",
    "make_indexer = StringIndexer(inputCol=\"NewMake\", outputCol=\"MakeIndex\")\n",
    "model_indexer = StringIndexer(inputCol=\"NewModel\", outputCol=\"ModelIndex\")\n",
    "\n",
    "# Fit and transform the DataFrame using the StringIndexers\n",
    "used_car = city_indexer.fit(used_car).transform(used_car)  # Convert \"NewCity\" column to numerical indices and store in \"CityIndex\" column\n",
    "used_car = state_indexer.fit(used_car).transform(used_car)  # Convert \"NewState\" column to numerical indices and store in \"StateIndex\" column\n",
    "used_car = make_indexer.fit(used_car).transform(used_car)  # Convert \"NewMake\" column to numerical indices and store in \"MakeIndex\" column\n",
    "used_car = model_indexer.fit(used_car).transform(used_car)  # Convert \"NewModel\" column to numerical indices and store in \"ModelIndex\" column\n",
    "\n",
    "# Show the first 10 rows of the transformed DataFrame\n",
    "used_car.show(10)"
   ]
  },
  {
   "cell_type": "code",
   "execution_count": 8,
   "id": "30d504e7",
   "metadata": {},
   "outputs": [
    {
     "name": "stdout",
     "output_type": "stream",
     "text": [
      "+-----+----+-------+---------+----------+---------+----------+--------------------+\n",
      "|Price|Year|Mileage|CityIndex|StateIndex|MakeIndex|ModelIndex|            features|\n",
      "+-----+----+-------+---------+----------+---------+----------+--------------------+\n",
      "|22900|2017|   5363|      1.0|       0.0|      0.0|       1.0|[5363.0,2017.0,1....|\n",
      "|14000|2011| 107273|      3.0|       0.0|      0.0|       1.0|[107273.0,2011.0,...|\n",
      "|16795|2014|  31905|      0.0|       0.0|      0.0|       0.0|(6,[0,1],[31905.0...|\n",
      "|11975|2010|  89254|      2.0|       0.0|      0.0|       0.0|[89254.0,2010.0,2...|\n",
      "|12500|2009|  49160|      0.0|       0.0|      0.0|       2.0|[49160.0,2009.0,0...|\n",
      "|13712|2015|  51619|      0.0|       0.0|      0.0|       1.0|[51619.0,2015.0,0...|\n",
      "|14995|2014|  81080|      2.0|       0.0|      0.0|       0.0|[81080.0,2014.0,2...|\n",
      "|17970|2013|  50533|      0.0|       0.0|      0.0|       0.0|(6,[0,1],[50533.0...|\n",
      "|27288|2015|  22873|      0.0|       0.0|      0.0|       0.0|(6,[0,1],[22873.0...|\n",
      "|10030|2014|  51338|      3.0|       0.0|      0.0|       2.0|[51338.0,2014.0,3...|\n",
      "+-----+----+-------+---------+----------+---------+----------+--------------------+\n",
      "only showing top 10 rows\n",
      "\n"
     ]
    }
   ],
   "source": [
    "# Create a VectorAssembler to combine specified columns into a single feature vector\n",
    "assembler = VectorAssembler(\n",
    "    inputCols=[\"Mileage\", \"Year\", \"CityIndex\", \"StateIndex\", \"MakeIndex\", \"ModelIndex\"],\n",
    "    outputCol=\"features\"\n",
    ")\n",
    "\n",
    "# Transform the DataFrame using the VectorAssembler\n",
    "used_car = assembler.transform(used_car)\n",
    "\n",
    "# Drop the original categorical columns from the DataFrame\n",
    "used_car = used_car.drop(\"NewCity\", \"NewState\", \"NewMake\", \"NewModel\")\n",
    "\n",
    "# Split the DataFrame into training (70%) and testing (30%) sets using a random seed for reproducibility\n",
    "train, test = used_car.randomSplit([0.7, 0.3], seed=123)\n",
    "\n",
    "# Show the first 10 rows of the transformed DataFrame\n",
    "used_car.show(10)\n"
   ]
  },
  {
   "cell_type": "code",
   "execution_count": 9,
   "id": "2c516451",
   "metadata": {},
   "outputs": [
    {
     "name": "stderr",
     "output_type": "stream",
     "text": [
      "23/04/19 15:51:45 WARN Instrumentation: [1aba1c11] regParam is zero, which might cause numerical instability and overfitting.\n",
      "23/04/19 15:51:46 WARN BLAS: Failed to load implementation from: com.github.fommil.netlib.NativeSystemBLAS\n",
      "23/04/19 15:51:46 WARN BLAS: Failed to load implementation from: com.github.fommil.netlib.NativeRefBLAS\n",
      "23/04/19 15:51:46 WARN LAPACK: Failed to load implementation from: com.github.fommil.netlib.NativeSystemLAPACK\n",
      "23/04/19 15:51:46 WARN LAPACK: Failed to load implementation from: com.github.fommil.netlib.NativeRefLAPACK\n"
     ]
    }
   ],
   "source": [
    "# Create a Linear Regression model\n",
    "target_column='Price'\n",
    "lr = LinearRegression(featuresCol='features', labelCol=target_column)\n",
    "\n",
    "# Fit the DecisionTreeRegressor model to the training data\n",
    "model = lr.fit(train)\n",
    "\n",
    "# Make predictions on the test data using the trained model\n",
    "predictions = model.transform(test)"
   ]
  },
  {
   "cell_type": "code",
   "execution_count": 10,
   "id": "62a7c49f",
   "metadata": {},
   "outputs": [
    {
     "name": "stdout",
     "output_type": "stream",
     "text": [
      "R2: 0.21401167185768233\n",
      "RMSE: 11864.017566994213\n",
      "MAE: 7763.088031428788\n",
      "MSE: 140754912.8299473\n"
     ]
    }
   ],
   "source": [
    "# Create a RegressionEvaluators with the R2,RMSE,  and MAE metrics\n",
    "r2_evaluator = RegressionEvaluator(predictionCol='prediction', labelCol=target_column, metricName='r2')\n",
    "rmse_evaluator = RegressionEvaluator(predictionCol='prediction', labelCol=target_column, metricName='rmse')\n",
    "mae_evaluator = RegressionEvaluator(predictionCol='prediction', labelCol=target_column, metricName='mae')\n",
    "mse_evaluator = RegressionEvaluator(predictionCol='prediction', labelCol=target_column, metricName='mse')\n",
    "\n",
    "# Calculate the R2,RMSE,and MAE scores on the test data\n",
    "r2 = r2_evaluator.evaluate(predictions)\n",
    "rmse = rmse_evaluator.evaluate(predictions)\n",
    "mae = mae_evaluator.evaluate(predictions)\n",
    "mse = mse_evaluator.evaluate(predictions)\n",
    "\n",
    "#print results\n",
    "print(\"R2:\", r2)\n",
    "print(\"RMSE:\", rmse)\n",
    "print(\"MAE:\", mae)\n",
    "print(\"MSE:\", mse)\n"
   ]
  },
  {
   "cell_type": "code",
   "execution_count": 12,
   "id": "6bc6d126",
   "metadata": {},
   "outputs": [
    {
     "data": {
      "image/png": "[encoded data removed]",
      "text/plain": [
       "<Figure size 432x288 with 1 Axes>"
      ]
     },
     "metadata": {
      "needs_background": "light"
     },
     "output_type": "display_data"
    }
   ],
   "source": [
    "# create scatter plot\n",
    "import matplotlib.pyplot as plt\n",
    "\n",
    "# create scatter plot\n",
    "plt.scatter(predictions.select('Price').collect(),\n",
    "            predictions.select('prediction').collect(),\n",
    "            alpha=0.5)\n",
    "\n",
    "plt.xlabel('Actual Price')\n",
    "plt.ylabel('Predicted Price')\n",
    "plt.title('Scatter plot of Actual vs Predicted Prices')\n",
    "# Save the scatter plot to a file (e.g., 'scatter_plot.png')\n",
    "plt.savefig('scatterplot_LM_HPCI.png' , dpi=200, bbox_inches='tight')\n",
    "\n",
    "plt.show()"
   ]
  },
  {
   "cell_type": "code",
   "execution_count": 13,
   "id": "cfcd8769",
   "metadata": {},
   "outputs": [
    {
     "name": "stdout",
     "output_type": "stream",
     "text": [
      "+-----+----+-------+---------+----------+\n",
      "|Price|Year|Mileage|MakeIndex|ModelIndex|\n",
      "+-----+----+-------+---------+----------+\n",
      "|22900|2017|   5363|      0.0|       1.0|\n",
      "|14000|2011| 107273|      0.0|       1.0|\n",
      "|16795|2014|  31905|      0.0|       0.0|\n",
      "|11975|2010|  89254|      0.0|       0.0|\n",
      "|12500|2009|  49160|      0.0|       2.0|\n",
      "|13712|2015|  51619|      0.0|       1.0|\n",
      "|14995|2014|  81080|      0.0|       0.0|\n",
      "|17970|2013|  50533|      0.0|       0.0|\n",
      "|27288|2015|  22873|      0.0|       0.0|\n",
      "|10030|2014|  51338|      0.0|       2.0|\n",
      "+-----+----+-------+---------+----------+\n",
      "only showing top 10 rows\n",
      "\n"
     ]
    },
    {
     "name": "stderr",
     "output_type": "stream",
     "text": [
      "23/04/19 15:52:55 WARN Instrumentation: [8f38f85a] regParam is zero, which might cause numerical instability and overfitting.\n"
     ]
    },
    {
     "name": "stdout",
     "output_type": "stream",
     "text": [
      "R2: 0.21387665086453223\n",
      "RMSE: 11865.036553274274\n",
      "MAE: 7764.073309364344\n",
      "MSE: 140779092.41053468\n"
     ]
    }
   ],
   "source": [
    "# Drop the \"CityIndex\", \"StateIndex\", and \"features\" columns from the DataFrame\n",
    "used_car = used_car.drop(\"CityIndex\", \"StateIndex\", \"features\")\n",
    "# Show the first 10 rows of the DataFrame\n",
    "used_car.show(10)\n",
    "\n",
    "# Create a new VectorAssembler to combine the specified columns into a single feature vector\n",
    "assembler = VectorAssembler(\n",
    "    inputCols=[\"Mileage\", \"Year\", \"MakeIndex\", \"ModelIndex\"],\n",
    "    outputCol=\"features\"\n",
    ")\n",
    "\n",
    "# Transform the DataFrame using the new VectorAssembler\n",
    "used_car = assembler.transform(used_car)\n",
    "\n",
    "# Split the DataFrame into training (70%) and testing (30%) sets using a random seed for reproducibility\n",
    "train, test = used_car.randomSplit([0.7, 0.3], seed=123)\n",
    "\n",
    "lr = LinearRegression(featuresCol='features', labelCol=target_column)\n",
    "\n",
    "# Fit the DecisionTreeRegressor model to the training data\n",
    "model = lr.fit(train)\n",
    "\n",
    "# Make predictions on the test data using the trained model\n",
    "predictions = model.transform(test)\n",
    "\n",
    "# Calculate the R2,RMSE,and MAE scores on the test data\n",
    "r2 = r2_evaluator.evaluate(predictions)\n",
    "rmse = rmse_evaluator.evaluate(predictions)\n",
    "mae = mae_evaluator.evaluate(predictions)\n",
    "mse = mse_evaluator.evaluate(predictions)\n",
    "\n",
    "#print results\n",
    "print(\"R2:\", r2)\n",
    "print(\"RMSE:\", rmse)\n",
    "print(\"MAE:\", mae)\n",
    "print(\"MSE:\", mse)\n"
   ]
  }
 ],
 "metadata": {
  "kernelspec": {
   "display_name": "Python 3 (ipykernel)",
   "language": "python",
   "name": "python3"
  },
  "language_info": {
   "codemirror_mode": {
    "name": "ipython",
    "version": 3
   },
   "file_extension": ".py",
   "mimetype": "text/x-python",
   "name": "python",
   "nbconvert_exporter": "python",
   "pygments_lexer": "ipython3",
   "version": "3.9.7"
  }
 },
 "nbformat": 4,
 "nbformat_minor": 5
}
