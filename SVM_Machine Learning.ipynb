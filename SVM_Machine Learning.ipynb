{
 "cells": [
  {
   "cell_type": "code",
   "execution_count": 1,
   "id": "32ca1848",
   "metadata": {},
   "outputs": [
    {
     "name": "stdout",
     "output_type": "stream",
     "text": [
      "Requirement already satisfied: pyspark==3.1.2 in /home/hadoop/Downloads/spark-3.1.2-bin-hadoop3.2/python (3.1.2)\r\n",
      "Requirement already satisfied: py4j==0.10.9 in /home/hadoop/anaconda3/lib/python3.9/site-packages (from pyspark==3.1.2) (0.10.9)\r\n"
     ]
    }
   ],
   "source": [
    "# Import necessary libraries from PySpark\n",
    "!pip install pyspark==3.1.2\n",
    "from pyspark.sql import SparkSession\n",
    "from pyspark.conf import SparkConf\n",
    "\n",
    "# Import additional Python libraries\n",
    "import os\n",
    "import pandas as pd\n",
    "import numpy as np\n",
    "\n",
    "# Import PySpark related libraries\n",
    "from pyspark import SparkConf, SparkContext\n",
    "from pyspark.sql import SparkSession, SQLContext\n",
    "from pyspark.sql.types import *\n",
    "import pyspark.sql.functions as F\n",
    "from pyspark.sql.functions import udf, col\n",
    "\n",
    "# Import PySpark ML (machine learning) libraries for feature transformation and classification\n",
    "from pyspark.ml.feature import StringIndexer, VectorAssembler\n",
    "from pyspark.ml.classification import DecisionTreeClassifier\n",
    "from pyspark.ml.feature import OneHotEncoder\n",
    "\n",
    "# Import PySpark ML libraries for regression and evaluation\n",
    "from sklearn.model_selection import train_test_split\n",
    "from sklearn.svm import SVR\n",
    "from sklearn.metrics import mean_squared_error, r2_score, mean_absolute_error\n",
    "from pyspark.ml.evaluation import RegressionEvaluator"
   ]
  },
  {
   "cell_type": "code",
   "execution_count": 2,
   "id": "b9b475ec",
   "metadata": {},
   "outputs": [],
   "source": [
    "# Initialize a SparkSession with a specified master URL and application name\n",
    "# Set the master URL to \"local[]\" to use all available cores on the local machine\n",
    "# Set the application name to \"Decision Tree\"\n",
    "# Create the SparkSession or retrieve an existing one   \n",
    "\n",
    "spark=SparkSession.builder\\\n",
    " .master(\"local[*]\")\\\n",
    " .appName(\"Neural Network\")\\\n",
    " .getOrCreate()\n",
    "sc=spark.sparkContext"
   ]
  },
  {
   "cell_type": "code",
   "execution_count": 3,
   "id": "dfd21e76",
   "metadata": {},
   "outputs": [
    {
     "name": "stderr",
     "output_type": "stream",
     "text": [
      "                                                                                \r"
     ]
    },
    {
     "name": "stdout",
     "output_type": "stream",
     "text": [
      "root\n",
      " |-- Sr: integer (nullable = true)\n",
      " |-- Price: integer (nullable = true)\n",
      " |-- Year: integer (nullable = true)\n",
      " |-- Mileage: integer (nullable = true)\n",
      " |-- NewCity: string (nullable = true)\n",
      " |-- NewState: string (nullable = true)\n",
      " |-- NewMake: string (nullable = true)\n",
      " |-- NewModel: string (nullable = true)\n",
      "\n"
     ]
    },
    {
     "name": "stderr",
     "output_type": "stream",
     "text": [
      "\r",
      "[Stage 1:>                                                          (0 + 1) / 1]\r",
      "\r",
      "                                                                                \r"
     ]
    }
   ],
   "source": [
    "# Read CSV file into a PySpark DataFrame\n",
    "df = spark.read.csv(\n",
    "    path='/home/hadoop/Downloads/used_car_new.csv',  # Set the path to the CSV file\n",
    "    header=True,  # Indicate that the first row of the CSV file contains column names\n",
    "    inferSchema=True  # Infer the schema of the DataFrame from the CSV file\n",
    ")\n",
    "\n",
    "# Print the schema of the DataFrame\n",
    "df.printSchema()"
   ]
  },
  {
   "cell_type": "code",
   "execution_count": 4,
   "id": "294feeac",
   "metadata": {},
   "outputs": [
    {
     "name": "stdout",
     "output_type": "stream",
     "text": [
      "+-----+----+-------+----------+----------+-----------+-----------+\n",
      "|Price|Year|Mileage|   NewCity|  NewState|    NewMake|   NewModel|\n",
      "+-----+----+-------+----------+----------+-----------+-----------+\n",
      "|22900|2017|   5363|  CLimited|SPlentiful|MAPlentiful| MOIsolated|\n",
      "|14000|2011| 107273|CPlentiful|SPlentiful|MAPlentiful| MOIsolated|\n",
      "|16795|2014|  31905| CIsolated|SPlentiful|MAPlentiful|MOPlentiful|\n",
      "|11975|2010|  89254| CModerate|SPlentiful|MAPlentiful|MOPlentiful|\n",
      "|12500|2009|  49160| CIsolated|SPlentiful|MAPlentiful| MOModerate|\n",
      "|13712|2015|  51619| CIsolated|SPlentiful|MAPlentiful| MOIsolated|\n",
      "|14995|2014|  81080| CModerate|SPlentiful|MAPlentiful|MOPlentiful|\n",
      "|17970|2013|  50533| CIsolated|SPlentiful|MAPlentiful|MOPlentiful|\n",
      "|27288|2015|  22873| CIsolated|SPlentiful|MAPlentiful|MOPlentiful|\n",
      "|10030|2014|  51338|CPlentiful|SPlentiful|MAPlentiful| MOModerate|\n",
      "+-----+----+-------+----------+----------+-----------+-----------+\n",
      "only showing top 10 rows\n",
      "\n"
     ]
    }
   ],
   "source": [
    "# Drop the \"Sr\" column from the DataFrame\n",
    "df = df.drop(\"Sr\")\n",
    "df.show(10)"
   ]
  },
  {
   "cell_type": "code",
   "execution_count": 5,
   "id": "4dce952a",
   "metadata": {},
   "outputs": [
    {
     "name": "stderr",
     "output_type": "stream",
     "text": [
      "                                                                                \r"
     ]
    },
    {
     "name": "stdout",
     "output_type": "stream",
     "text": [
      "+-----+----+-------+----------+----------+-----------+-----------+---------+----------+---------+----------+\n",
      "|Price|Year|Mileage|   NewCity|  NewState|    NewMake|   NewModel|CityIndex|StateIndex|MakeIndex|ModelIndex|\n",
      "+-----+----+-------+----------+----------+-----------+-----------+---------+----------+---------+----------+\n",
      "|22900|2017|   5363|  CLimited|SPlentiful|MAPlentiful| MOIsolated|      1.0|       0.0|      0.0|       1.0|\n",
      "|14000|2011| 107273|CPlentiful|SPlentiful|MAPlentiful| MOIsolated|      3.0|       0.0|      0.0|       1.0|\n",
      "|16795|2014|  31905| CIsolated|SPlentiful|MAPlentiful|MOPlentiful|      0.0|       0.0|      0.0|       0.0|\n",
      "|11975|2010|  89254| CModerate|SPlentiful|MAPlentiful|MOPlentiful|      2.0|       0.0|      0.0|       0.0|\n",
      "|12500|2009|  49160| CIsolated|SPlentiful|MAPlentiful| MOModerate|      0.0|       0.0|      0.0|       2.0|\n",
      "|13712|2015|  51619| CIsolated|SPlentiful|MAPlentiful| MOIsolated|      0.0|       0.0|      0.0|       1.0|\n",
      "|14995|2014|  81080| CModerate|SPlentiful|MAPlentiful|MOPlentiful|      2.0|       0.0|      0.0|       0.0|\n",
      "|17970|2013|  50533| CIsolated|SPlentiful|MAPlentiful|MOPlentiful|      0.0|       0.0|      0.0|       0.0|\n",
      "|27288|2015|  22873| CIsolated|SPlentiful|MAPlentiful|MOPlentiful|      0.0|       0.0|      0.0|       0.0|\n",
      "|10030|2014|  51338|CPlentiful|SPlentiful|MAPlentiful| MOModerate|      3.0|       0.0|      0.0|       2.0|\n",
      "+-----+----+-------+----------+----------+-----------+-----------+---------+----------+---------+----------+\n",
      "only showing top 10 rows\n",
      "\n"
     ]
    }
   ],
   "source": [
    "# Create StringIndexer objects to convert categorical columns to numerical indices\n",
    "city_indexer = StringIndexer(inputCol=\"NewCity\", outputCol=\"CityIndex\")\n",
    "state_indexer = StringIndexer(inputCol=\"NewState\", outputCol=\"StateIndex\")\n",
    "make_indexer = StringIndexer(inputCol=\"NewMake\", outputCol=\"MakeIndex\")\n",
    "model_indexer = StringIndexer(inputCol=\"NewModel\", outputCol=\"ModelIndex\")\n",
    "\n",
    "# Fit and transform the DataFrame using the StringIndexers\n",
    "df = city_indexer.fit(df).transform(df)  # Convert \"NewCity\" column to numerical indices and store in \"CityIndex\" column\n",
    "df = state_indexer.fit(df).transform(df)  # Convert \"NewState\" column to numerical indices and store in \"StateIndex\" column\n",
    "df = make_indexer.fit(df).transform(df)  # Convert \"NewMake\" column to numerical indices and store in \"MakeIndex\" column\n",
    "df = model_indexer.fit(df).transform(df)  # Convert \"NewModel\" column to numerical indices and store in \"ModelIndex\" column\n",
    "\n",
    "# Show the first 10 rows of the transformed DataFrame\n",
    "df.show(10)"
   ]
  },
  {
   "cell_type": "code",
   "execution_count": 6,
   "id": "5f431332",
   "metadata": {},
   "outputs": [],
   "source": [
    "# Create a VectorAssembler to combine specified columns into a single feature vector\n",
    "assembler = VectorAssembler(\n",
    "    inputCols=[\"Mileage\", \"Year\", \"CityIndex\", \"StateIndex\", \"MakeIndex\", \"ModelIndex\"],\n",
    "    outputCol=\"features\"\n",
    ")\n",
    "\n",
    "# Transform the DataFrame using the VectorAssembler\n",
    "df = assembler.transform(df)\n",
    "\n",
    "# Drop the original categorical columns from the DataFrame\n",
    "df = df.drop(\"NewCity\", \"NewState\", \"NewMake\", \"NewModel\")\n",
    "\n"
   ]
  },
  {
   "cell_type": "code",
   "execution_count": 7,
   "id": "a39095e0",
   "metadata": {},
   "outputs": [],
   "source": [
    "# Split the DataFrame into training (70%) and testing (30%) sets using a random seed for reproducibility\n",
    "# Convert the PySpark DataFrame to a Pandas DataFrame\n",
    "data_pd = df.select(\"features\", \"Price\").toPandas()\n",
    "\n",
    "# Convert the 'features' column in the Pandas DataFrame to a list of lists\n",
    "X = data_pd[\"features\"].apply(lambda x: x.toArray().tolist()).tolist()\n",
    "y = data_pd[\"Price\"].values\n",
    "\n"
   ]
  },
  {
   "cell_type": "code",
   "execution_count": 8,
   "id": "4bf8b0c1",
   "metadata": {},
   "outputs": [
    {
     "name": "stdout",
     "output_type": "stream",
     "text": [
      "+-----+----+-------+---------+----------+---------+----------+--------------------+\n",
      "|Price|Year|Mileage|CityIndex|StateIndex|MakeIndex|ModelIndex|            features|\n",
      "+-----+----+-------+---------+----------+---------+----------+--------------------+\n",
      "|22900|2017|   5363|      1.0|       0.0|      0.0|       1.0|[5363.0,2017.0,1....|\n",
      "|14000|2011| 107273|      3.0|       0.0|      0.0|       1.0|[107273.0,2011.0,...|\n",
      "|16795|2014|  31905|      0.0|       0.0|      0.0|       0.0|(6,[0,1],[31905.0...|\n",
      "|11975|2010|  89254|      2.0|       0.0|      0.0|       0.0|[89254.0,2010.0,2...|\n",
      "|12500|2009|  49160|      0.0|       0.0|      0.0|       2.0|[49160.0,2009.0,0...|\n",
      "|13712|2015|  51619|      0.0|       0.0|      0.0|       1.0|[51619.0,2015.0,0...|\n",
      "|14995|2014|  81080|      2.0|       0.0|      0.0|       0.0|[81080.0,2014.0,2...|\n",
      "|17970|2013|  50533|      0.0|       0.0|      0.0|       0.0|(6,[0,1],[50533.0...|\n",
      "|27288|2015|  22873|      0.0|       0.0|      0.0|       0.0|(6,[0,1],[22873.0...|\n",
      "|10030|2014|  51338|      3.0|       0.0|      0.0|       2.0|[51338.0,2014.0,3...|\n",
      "+-----+----+-------+---------+----------+---------+----------+--------------------+\n",
      "only showing top 10 rows\n",
      "\n"
     ]
    }
   ],
   "source": [
    "\n",
    "#train, test = df.randomSplit([0.7, 0.3], seed=123)\n",
    "X_train, X_test, y_train, y_test = train_test_split(X, y, test_size=0.3, random_state=123)\n",
    "\n",
    "# Show the first 10 rows of the transformed DataFrame\n",
    "df.show(10)"
   ]
  },
  {
   "cell_type": "code",
   "execution_count": 9,
   "id": "c079ddb0",
   "metadata": {},
   "outputs": [],
   "source": [
    "# Create RegressionEvaluator objects for evaluating the model using R2, RMSE, and MAE metrics \n",
    "#for final decision c=700 because we can not any more good performence after c=700\n",
    "\n",
    "r2_evaluator = RegressionEvaluator(predictionCol='prediction', labelCol=\"Price\", metricName='r2')\n",
    "rmse_evaluator = RegressionEvaluator(predictionCol='prediction', labelCol=\"Price\", metricName='rmse')\n",
    "mae_evaluator = RegressionEvaluator(predictionCol='prediction', labelCol=\"Price\", metricName='mae')\n",
    "mse_evaluator = RegressionEvaluator(predictionCol='prediction', labelCol=\"Price\", metricName='mse')"
   ]
  },
  {
   "cell_type": "code",
   "execution_count": 10,
   "id": "4192d752",
   "metadata": {},
   "outputs": [
    {
     "data": {
      "text/plain": [
       "SVR(C=100)"
      ]
     },
     "execution_count": 10,
     "metadata": {},
     "output_type": "execute_result"
    }
   ],
   "source": [
    "# Create an SVR object and train the model C=100\n",
    "svr = SVR(kernel=\"rbf\", C=100, epsilon=0.1)\n",
    "svr.fit(X_train, y_train)"
   ]
  },
  {
   "cell_type": "code",
   "execution_count": 11,
   "id": "03eb35de",
   "metadata": {},
   "outputs": [
    {
     "name": "stdout",
     "output_type": "stream",
     "text": [
      "Root Mean Squared Error (RMSE) on test data = 12204.2\n",
      "Mean Absolute Error (MAE) on test data = 7443.54\n",
      "R-Squared (R2) on test data = 0.169287\n",
      "Mean Squared Error (MSE) on test data = 1.48943e+08\n"
     ]
    }
   ],
   "source": [
    "# Make predictions\n",
    "y_pred = svr.predict(X_test)\n",
    "\n",
    "# Compute the performance metrics\n",
    "mse = mean_squared_error(y_test, y_pred)\n",
    "r2 = r2_score(y_test, y_pred)\n",
    "\n",
    "#check output for C=100\n",
    "# Calculate R2, RMSE, and MAE metrics for the predictions\n",
    "rmse = mean_squared_error(y_test, y_pred, squared=False)\n",
    "mae = mean_absolute_error(y_test, y_pred)\n",
    "mse = mean_squared_error(y_test, y_pred)\n",
    "r2 = r2_score(y_test, y_pred)\n",
    "\n",
    "\n",
    "# Print the evaluation metrics\n",
    "print(\"Root Mean Squared Error (RMSE) on test data = %g\" % rmse)\n",
    "print(\"Mean Absolute Error (MAE) on test data = %g\" % mae)\n",
    "print(\"R-Squared (R2) on test data = %g\" % r2)\n",
    "print(\"Mean Squared Error (MSE) on test data = %g\" % mse)\n"
   ]
  },
  {
   "cell_type": "code",
   "execution_count": 12,
   "id": "55bcbf6a",
   "metadata": {},
   "outputs": [
    {
     "data": {
      "text/plain": [
       "SVR(C=500)"
      ]
     },
     "execution_count": 12,
     "metadata": {},
     "output_type": "execute_result"
    }
   ],
   "source": [
    "# Create an SVR object and train the model C=500\n",
    "svr = SVR(kernel=\"rbf\", C=500, epsilon=0.1)\n",
    "svr.fit(X_train, y_train)"
   ]
  },
  {
   "cell_type": "code",
   "execution_count": 13,
   "id": "236e35be",
   "metadata": {},
   "outputs": [
    {
     "name": "stdout",
     "output_type": "stream",
     "text": [
      "Root Mean Squared Error (RMSE) on test data = 12130\n",
      "Mean Absolute Error (MAE) on test data = 7420.22\n",
      "R-Squared (R2) on test data = 0.179355\n",
      "Mean Squared Error (MSE) on test data = 1.47138e+08\n"
     ]
    }
   ],
   "source": [
    "# Make predictions\n",
    "y_pred = svr.predict(X_test)\n",
    "\n",
    "# Compute the performance metrics\n",
    "mse = mean_squared_error(y_test, y_pred)\n",
    "r2 = r2_score(y_test, y_pred)\n",
    "#check output for C=500\n",
    "# Calculate R2, RMSE, and MAE metrics for the predictions\n",
    "rmse = mean_squared_error(y_test, y_pred, squared=False)\n",
    "mae = mean_absolute_error(y_test, y_pred)\n",
    "mse = mean_squared_error(y_test, y_pred)\n",
    "r2 = r2_score(y_test, y_pred)\n",
    "\n",
    "\n",
    "# Print the evaluation metrics\n",
    "print(\"Root Mean Squared Error (RMSE) on test data = %g\" % rmse)\n",
    "print(\"Mean Absolute Error (MAE) on test data = %g\" % mae)\n",
    "print(\"R-Squared (R2) on test data = %g\" % r2)\n",
    "print(\"Mean Squared Error (MSE) on test data = %g\" % mse)\n"
   ]
  },
  {
   "cell_type": "code",
   "execution_count": 14,
   "id": "2f81360a",
   "metadata": {},
   "outputs": [
    {
     "data": {
      "text/plain": [
       "SVR(C=700)"
      ]
     },
     "execution_count": 14,
     "metadata": {},
     "output_type": "execute_result"
    }
   ],
   "source": [
    "# Create an SVR object and train the model C=700\n",
    "svr = SVR(kernel=\"rbf\", C=700, epsilon=0.1)\n",
    "svr.fit(X_train, y_train)"
   ]
  },
  {
   "cell_type": "code",
   "execution_count": 36,
   "id": "6b065f02",
   "metadata": {},
   "outputs": [
    {
     "name": "stdout",
     "output_type": "stream",
     "text": [
      "Root Mean Squared Error (RMSE) on test data = 12120.7\n",
      "Mean Absolute Error (MAE) on test data = 7419.48\n",
      "R-Squared (R2) on test data = 0.180613\n",
      "Mean Squared Error (MSE) on test data = 1.46912e+08\n"
     ]
    }
   ],
   "source": [
    "# Make predictions\n",
    "y_pred = svr.predict(X_test)\n",
    "\n",
    "# Compute the performance metrics\n",
    "mse = mean_squared_error(y_test, y_pred)\n",
    "r2 = r2_score(y_test, y_pred)\n",
    "#check output for C=700\n",
    "# Calculate R2, RMSE, and MAE metrics for the predictions\n",
    "rmse = mean_squared_error(y_test, y_pred, squared=False)\n",
    "mae = mean_absolute_error(y_test, y_pred)\n",
    "mse = mean_squared_error(y_test, y_pred)\n",
    "r2 = r2_score(y_test, y_pred)\n",
    "\n",
    "\n",
    "# Print the evaluation metrics\n",
    "print(\"Root Mean Squared Error (RMSE) on test data = %g\" % rmse)\n",
    "print(\"Mean Absolute Error (MAE) on test data = %g\" % mae)\n",
    "print(\"R-Squared (R2) on test data = %g\" % r2)\n",
    "print(\"Mean Squared Error (MSE) on test data = %g\" % mse)\n"
   ]
  },
  {
   "cell_type": "code",
   "execution_count": 37,
   "id": "ed49f9cd",
   "metadata": {},
   "outputs": [
    {
     "data": {
      "text/plain": [
       "SVR(C=1000)"
      ]
     },
     "execution_count": 37,
     "metadata": {},
     "output_type": "execute_result"
    }
   ],
   "source": [
    "# Create an SVR object and train the model C=1000\n",
    "svr = SVR(kernel=\"rbf\", C=1000, epsilon=0.1)\n",
    "svr.fit(X_train, y_train)"
   ]
  },
  {
   "cell_type": "code",
   "execution_count": 15,
   "id": "2066d56a",
   "metadata": {},
   "outputs": [
    {
     "name": "stdout",
     "output_type": "stream",
     "text": [
      "Root Mean Squared Error (RMSE) on test data = 12120.7\n",
      "Mean Absolute Error (MAE) on test data = 7419.48\n",
      "R-Squared (R2) on test data = 0.180613\n",
      "Mean Squared Error (MSE) on test data = 1.46912e+08\n"
     ]
    }
   ],
   "source": [
    "# Make predictions\n",
    "y_pred = svr.predict(X_test)\n",
    "\n",
    "# Compute the performance metrics\n",
    "mse = mean_squared_error(y_test, y_pred)\n",
    "r2 = r2_score(y_test, y_pred)\n",
    "#check output for C=1000\n",
    "# Calculate R2, RMSE, and MAE metrics for the predictions\n",
    "rmse = mean_squared_error(y_test, y_pred, squared=False)\n",
    "mae = mean_absolute_error(y_test, y_pred)\n",
    "mse = mean_squared_error(y_test, y_pred)\n",
    "r2 = r2_score(y_test, y_pred)\n",
    "\n",
    "\n",
    "# Print the evaluation metrics\n",
    "print(\"Root Mean Squared Error (RMSE) on test data = %g\" % rmse)\n",
    "print(\"Mean Absolute Error (MAE) on test data = %g\" % mae)\n",
    "print(\"R-Squared (R2) on test data = %g\" % r2)\n",
    "print(\"Mean Squared Error (MSE) on test data = %g\" % mse)\n"
   ]
  },
  {
   "cell_type": "code",
   "execution_count": 16,
   "id": "8c5b6264",
   "metadata": {},
   "outputs": [
    {
     "data": {
      "image/png": "[encoded data removed]",
      "text/plain": [
       "<Figure size 432x288 with 1 Axes>"
      ]
     },
     "metadata": {
      "needs_background": "light"
     },
     "output_type": "display_data"
    }
   ],
   "source": [
    "# Import the necessary library for creating plots\n",
    "import matplotlib.pyplot as plt\n",
    "\n",
    "# Assuming y_test is the true target values and y_pred is the predicted values from your SVM model, both as NumPy arrays\n",
    "\n",
    "# Create a scatter plot comparing actual prices (y-axis) and predicted prices (x-axis)\n",
    "plt.scatter(y_test, y_pred, alpha=0.5)\n",
    "# Set the labels for the x-axis and y-axis\n",
    "plt.xlabel(\"Actual Prices\") # Collect actual prices from the 'Price' column of the predictions DataFrame\n",
    "plt.ylabel(\"Predicted Prices\")# Collect predicted prices from the 'prediction' column of the predictions DataFrame\n",
    "# Set the title of the scatter plot\n",
    "plt.title(\"Scatter Plot of Actual vs. Predicted Prices\")\n",
    "# Save the scatter plot to a file (e.g., 'scatter_plot.png')\n",
    "plt.savefig('scatterplot_SVM_HPCI.png' , dpi=200, bbox_inches='tight')\n",
    "\n",
    "# Display the scatter plot\n",
    "plt.show()"
   ]
  },
  {
   "cell_type": "code",
   "execution_count": null,
   "id": "6d11276d",
   "metadata": {},
   "outputs": [],
   "source": []
  }
 ],
 "metadata": {
  "kernelspec": {
   "display_name": "Python 3 (ipykernel)",
   "language": "python",
   "name": "python3"
  },
  "language_info": {
   "codemirror_mode": {
    "name": "ipython",
    "version": 3
   },
   "file_extension": ".py",
   "mimetype": "text/x-python",
   "name": "python",
   "nbconvert_exporter": "python",
   "pygments_lexer": "ipython3",
   "version": "3.9.7"
  }
 },
 "nbformat": 4,
 "nbformat_minor": 5
}
